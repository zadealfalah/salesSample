{
 "cells": [
  {
   "cell_type": "code",
   "execution_count": 106,
   "metadata": {},
   "outputs": [],
   "source": [
    "import pandas as pd\n",
    "import matplotlib.pyplot as plt\n",
    "import numpy as np\n",
    "from dotenv import load_dotenv\n",
    "import mysql.connector\n",
    "import os"
   ]
  },
  {
   "cell_type": "code",
   "execution_count": 107,
   "metadata": {},
   "outputs": [],
   "source": [
    "load_dotenv()\n",
    "mysqluser = os.getenv(\"mysqluser\")\n",
    "mysqlpassword = os.getenv(\"mysqlpassword\")\n",
    "mysqlhost = os.getenv(\"mysqlhost\")\n",
    "mysqldatabase = os.getenv(\"mysqldatabase\")"
   ]
  },
  {
   "attachments": {},
   "cell_type": "markdown",
   "metadata": {},
   "source": [
    "Original data from https://archive.ics.uci.edu/ml/datasets/Online+Retail+II"
   ]
  },
  {
   "attachments": {},
   "cell_type": "markdown",
   "metadata": {},
   "source": [
    "First we downloaded the excel file from the UCI ML repo.  The sheets were then downloaded as csv and split by sheet (one for 2009-2010, the other for 2010-2011)\n",
    "\n",
    "Next we read in these csv files to pandas dataframes, add a flag to show the original sheet, combine them, and begin data cleaning.  The flag is for checking if issues occured in reading in the csv or if they were present in the original data.  Can be removed after cleaning.\n"
   ]
  },
  {
   "cell_type": "code",
   "execution_count": 108,
   "metadata": {},
   "outputs": [
    {
     "data": {
      "text/html": [
       "<div>\n",
       "<style scoped>\n",
       "    .dataframe tbody tr th:only-of-type {\n",
       "        vertical-align: middle;\n",
       "    }\n",
       "\n",
       "    .dataframe tbody tr th {\n",
       "        vertical-align: top;\n",
       "    }\n",
       "\n",
       "    .dataframe thead th {\n",
       "        text-align: right;\n",
       "    }\n",
       "</style>\n",
       "<table border=\"1\" class=\"dataframe\">\n",
       "  <thead>\n",
       "    <tr style=\"text-align: right;\">\n",
       "      <th></th>\n",
       "      <th>Invoice</th>\n",
       "      <th>StockCode</th>\n",
       "      <th>Description</th>\n",
       "      <th>Quantity</th>\n",
       "      <th>InvoiceDate</th>\n",
       "      <th>Price</th>\n",
       "      <th>Customer ID</th>\n",
       "      <th>Country</th>\n",
       "      <th>Flag</th>\n",
       "    </tr>\n",
       "  </thead>\n",
       "  <tbody>\n",
       "    <tr>\n",
       "      <th>0</th>\n",
       "      <td>489434</td>\n",
       "      <td>85048</td>\n",
       "      <td>15CM CHRISTMAS GLASS BALL 20 LIGHTS</td>\n",
       "      <td>12</td>\n",
       "      <td>2009-12-01 07:45:00</td>\n",
       "      <td>6.95</td>\n",
       "      <td>13085.0</td>\n",
       "      <td>United Kingdom</td>\n",
       "      <td>1</td>\n",
       "    </tr>\n",
       "    <tr>\n",
       "      <th>1</th>\n",
       "      <td>489434</td>\n",
       "      <td>79323P</td>\n",
       "      <td>PINK CHERRY LIGHTS</td>\n",
       "      <td>12</td>\n",
       "      <td>2009-12-01 07:45:00</td>\n",
       "      <td>6.75</td>\n",
       "      <td>13085.0</td>\n",
       "      <td>United Kingdom</td>\n",
       "      <td>1</td>\n",
       "    </tr>\n",
       "    <tr>\n",
       "      <th>2</th>\n",
       "      <td>489434</td>\n",
       "      <td>79323W</td>\n",
       "      <td>WHITE CHERRY LIGHTS</td>\n",
       "      <td>12</td>\n",
       "      <td>2009-12-01 07:45:00</td>\n",
       "      <td>6.75</td>\n",
       "      <td>13085.0</td>\n",
       "      <td>United Kingdom</td>\n",
       "      <td>1</td>\n",
       "    </tr>\n",
       "    <tr>\n",
       "      <th>3</th>\n",
       "      <td>489434</td>\n",
       "      <td>22041</td>\n",
       "      <td>RECORD FRAME 7\" SINGLE SIZE</td>\n",
       "      <td>48</td>\n",
       "      <td>2009-12-01 07:45:00</td>\n",
       "      <td>2.10</td>\n",
       "      <td>13085.0</td>\n",
       "      <td>United Kingdom</td>\n",
       "      <td>1</td>\n",
       "    </tr>\n",
       "    <tr>\n",
       "      <th>4</th>\n",
       "      <td>489434</td>\n",
       "      <td>21232</td>\n",
       "      <td>STRAWBERRY CERAMIC TRINKET BOX</td>\n",
       "      <td>24</td>\n",
       "      <td>2009-12-01 07:45:00</td>\n",
       "      <td>1.25</td>\n",
       "      <td>13085.0</td>\n",
       "      <td>United Kingdom</td>\n",
       "      <td>1</td>\n",
       "    </tr>\n",
       "  </tbody>\n",
       "</table>\n",
       "</div>"
      ],
      "text/plain": [
       "  Invoice StockCode                          Description  Quantity  \\\n",
       "0  489434     85048  15CM CHRISTMAS GLASS BALL 20 LIGHTS        12   \n",
       "1  489434    79323P                   PINK CHERRY LIGHTS        12   \n",
       "2  489434    79323W                  WHITE CHERRY LIGHTS        12   \n",
       "3  489434     22041         RECORD FRAME 7\" SINGLE SIZE         48   \n",
       "4  489434     21232       STRAWBERRY CERAMIC TRINKET BOX        24   \n",
       "\n",
       "          InvoiceDate  Price  Customer ID         Country  Flag  \n",
       "0 2009-12-01 07:45:00   6.95      13085.0  United Kingdom     1  \n",
       "1 2009-12-01 07:45:00   6.75      13085.0  United Kingdom     1  \n",
       "2 2009-12-01 07:45:00   6.75      13085.0  United Kingdom     1  \n",
       "3 2009-12-01 07:45:00   2.10      13085.0  United Kingdom     1  \n",
       "4 2009-12-01 07:45:00   1.25      13085.0  United Kingdom     1  "
      ]
     },
     "execution_count": 108,
     "metadata": {},
     "output_type": "execute_result"
    }
   ],
   "source": [
    "df1 = pd.read_csv(r\"data/online_retail_II_2009_2010.csv\", encoding='unicode_escape', parse_dates=['InvoiceDate'])\n",
    "df1['Flag'] = 1\n",
    "df2 = pd.read_csv(r\"data/online_retail_II_2010_2011.csv\", encoding='unicode_escape', parse_dates=['InvoiceDate'])\n",
    "df2['Flag'] = 2\n",
    "df = pd.concat([df1, df2])\n",
    "df.head()"
   ]
  },
  {
   "cell_type": "code",
   "execution_count": 109,
   "metadata": {},
   "outputs": [
    {
     "name": "stdout",
     "output_type": "stream",
     "text": [
      "<class 'pandas.core.frame.DataFrame'>\n",
      "Int64Index: 1067371 entries, 0 to 541909\n",
      "Data columns (total 9 columns):\n",
      " #   Column       Non-Null Count    Dtype         \n",
      "---  ------       --------------    -----         \n",
      " 0   Invoice      1067371 non-null  object        \n",
      " 1   StockCode    1067371 non-null  object        \n",
      " 2   Description  1062989 non-null  object        \n",
      " 3   Quantity     1067371 non-null  int64         \n",
      " 4   InvoiceDate  1067371 non-null  datetime64[ns]\n",
      " 5   Price        1067371 non-null  float64       \n",
      " 6   Customer ID  824364 non-null   float64       \n",
      " 7   Country      1067371 non-null  object        \n",
      " 8   Flag         1067371 non-null  int64         \n",
      "dtypes: datetime64[ns](1), float64(2), int64(2), object(4)\n",
      "memory usage: 81.4+ MB\n"
     ]
    }
   ],
   "source": [
    "df.info()"
   ]
  },
  {
   "cell_type": "code",
   "execution_count": 110,
   "metadata": {},
   "outputs": [
    {
     "data": {
      "text/plain": [
       "Index(['invoice', 'stockcode', 'description', 'quantity', 'invoicedate',\n",
       "       'price', 'customerid', 'country', 'flag'],\n",
       "      dtype='object')"
      ]
     },
     "execution_count": 110,
     "metadata": {},
     "output_type": "execute_result"
    }
   ],
   "source": [
    "df.columns = df.columns.str.strip().str.lower()  # Strip leading/trailing whitespace and lowercase all column names\n",
    "df.rename(columns={\"customer id\":\"customerid\"}, inplace=True)  # remove whitespace in customer ID as well\n",
    "df.columns"
   ]
  },
  {
   "attachments": {},
   "cell_type": "markdown",
   "metadata": {},
   "source": [
    "Invoice must remain as str because of ones such as 'C489449'.  \n",
    "Similarly, stockcode must remain as str.  \n",
    "customerid is converted to Int64 which allows for the NaN values (int alone doesn't)"
   ]
  },
  {
   "cell_type": "code",
   "execution_count": 111,
   "metadata": {},
   "outputs": [
    {
     "data": {
      "text/plain": [
       "0    13085.0\n",
       "0    17850.0\n",
       "Name: customerid, dtype: float64"
      ]
     },
     "execution_count": 111,
     "metadata": {},
     "output_type": "execute_result"
    }
   ],
   "source": [
    "df.customerid[0]"
   ]
  },
  {
   "attachments": {},
   "cell_type": "markdown",
   "metadata": {},
   "source": [
    "The df contains 1067371 entries.  All Invoices must be non-null.  We saw that there exist nulls in Description and Customer ID.  In fact, 22% of our customer id's are missing!  This could be because other rows in the df are already tied to a customer ID by the invoice.  Should group by and examine."
   ]
  },
  {
   "cell_type": "code",
   "execution_count": 112,
   "metadata": {},
   "outputs": [
    {
     "data": {
      "text/plain": [
       "invoice             0\n",
       "stockcode           0\n",
       "description      4382\n",
       "quantity            0\n",
       "invoicedate         0\n",
       "price               0\n",
       "customerid     243007\n",
       "country             0\n",
       "flag                0\n",
       "dtype: int64"
      ]
     },
     "execution_count": 112,
     "metadata": {},
     "output_type": "execute_result"
    }
   ],
   "source": [
    "df.isnull().sum()"
   ]
  },
  {
   "attachments": {},
   "cell_type": "markdown",
   "metadata": {},
   "source": [
    "We can also see that there exist negative quantities of products sold and prices.  "
   ]
  },
  {
   "cell_type": "code",
   "execution_count": 113,
   "metadata": {},
   "outputs": [
    {
     "data": {
      "text/plain": [
       "<AxesSubplot:>"
      ]
     },
     "execution_count": 113,
     "metadata": {},
     "output_type": "execute_result"
    },
    {
     "data": {
      "image/png": "[encoded data removed]",
      "text/plain": [
       "<Figure size 640x480 with 1 Axes>"
      ]
     },
     "metadata": {},
     "output_type": "display_data"
    }
   ],
   "source": [
    "df.boxplot(column=['quantity', 'price'])"
   ]
  },
  {
   "cell_type": "code",
   "execution_count": 114,
   "metadata": {},
   "outputs": [
    {
     "name": "stdout",
     "output_type": "stream",
     "text": [
      "2.15% of our quantities are negative\n",
      "0.58% of our quantities are negative\n"
     ]
    }
   ],
   "source": [
    "print(f\"{len(df[df.quantity <=0]) / len(df) * 100:.2f}% of our quantities are negative\") \n",
    "print(f\"{len(df[df.price <=0]) / len(df) * 100:.2f}% of our quantities are negative\") "
   ]
  },
  {
   "attachments": {},
   "cell_type": "markdown",
   "metadata": {},
   "source": [
    "I can't think of a reason for quantities or prices to be negative, and it is a relatively small amount, so we will drop these rows as junk data."
   ]
  },
  {
   "cell_type": "code",
   "execution_count": 115,
   "metadata": {},
   "outputs": [],
   "source": [
    "df = df[df.quantity >= 0]  # Get rid of zero or negative quantity orders\n",
    "df = df[df.price >= 0]  # Get rid of zero or negative price orders"
   ]
  },
  {
   "cell_type": "code",
   "execution_count": 119,
   "metadata": {},
   "outputs": [],
   "source": [
    "testdf = df.set_index(['invoice', 'customerid'])"
   ]
  },
  {
   "cell_type": "code",
   "execution_count": 128,
   "metadata": {},
   "outputs": [
    {
     "data": {
      "text/html": [
       "<div>\n",
       "<style scoped>\n",
       "    .dataframe tbody tr th:only-of-type {\n",
       "        vertical-align: middle;\n",
       "    }\n",
       "\n",
       "    .dataframe tbody tr th {\n",
       "        vertical-align: top;\n",
       "    }\n",
       "\n",
       "    .dataframe thead th {\n",
       "        text-align: right;\n",
       "    }\n",
       "</style>\n",
       "<table border=\"1\" class=\"dataframe\">\n",
       "  <thead>\n",
       "    <tr style=\"text-align: right;\">\n",
       "      <th></th>\n",
       "      <th>invoice</th>\n",
       "      <th>stockcode</th>\n",
       "      <th>description</th>\n",
       "      <th>quantity</th>\n",
       "      <th>invoicedate</th>\n",
       "      <th>price</th>\n",
       "      <th>customerid</th>\n",
       "      <th>country</th>\n",
       "      <th>flag</th>\n",
       "    </tr>\n",
       "  </thead>\n",
       "  <tbody>\n",
       "    <tr>\n",
       "      <th>577</th>\n",
       "      <td>489525</td>\n",
       "      <td>85226C</td>\n",
       "      <td>BLUE PULL BACK RACING CAR</td>\n",
       "      <td>1</td>\n",
       "      <td>2009-12-01 11:49:00</td>\n",
       "      <td>0.55</td>\n",
       "      <td>NaN</td>\n",
       "      <td>United Kingdom</td>\n",
       "      <td>1</td>\n",
       "    </tr>\n",
       "    <tr>\n",
       "      <th>578</th>\n",
       "      <td>489525</td>\n",
       "      <td>85227</td>\n",
       "      <td>SET/6 3D KIT CARDS FOR KIDS</td>\n",
       "      <td>1</td>\n",
       "      <td>2009-12-01 11:49:00</td>\n",
       "      <td>0.85</td>\n",
       "      <td>NaN</td>\n",
       "      <td>United Kingdom</td>\n",
       "      <td>1</td>\n",
       "    </tr>\n",
       "    <tr>\n",
       "      <th>1055</th>\n",
       "      <td>489548</td>\n",
       "      <td>22271</td>\n",
       "      <td>FELTCRAFT DOLL ROSIE</td>\n",
       "      <td>1</td>\n",
       "      <td>2009-12-01 12:32:00</td>\n",
       "      <td>2.95</td>\n",
       "      <td>NaN</td>\n",
       "      <td>United Kingdom</td>\n",
       "      <td>1</td>\n",
       "    </tr>\n",
       "    <tr>\n",
       "      <th>1056</th>\n",
       "      <td>489548</td>\n",
       "      <td>22254</td>\n",
       "      <td>FELT TOADSTOOL LARGE</td>\n",
       "      <td>12</td>\n",
       "      <td>2009-12-01 12:32:00</td>\n",
       "      <td>1.25</td>\n",
       "      <td>NaN</td>\n",
       "      <td>United Kingdom</td>\n",
       "      <td>1</td>\n",
       "    </tr>\n",
       "    <tr>\n",
       "      <th>1057</th>\n",
       "      <td>489548</td>\n",
       "      <td>22273</td>\n",
       "      <td>FELTCRAFT DOLL MOLLY</td>\n",
       "      <td>3</td>\n",
       "      <td>2009-12-01 12:32:00</td>\n",
       "      <td>2.95</td>\n",
       "      <td>NaN</td>\n",
       "      <td>United Kingdom</td>\n",
       "      <td>1</td>\n",
       "    </tr>\n",
       "    <tr>\n",
       "      <th>...</th>\n",
       "      <td>...</td>\n",
       "      <td>...</td>\n",
       "      <td>...</td>\n",
       "      <td>...</td>\n",
       "      <td>...</td>\n",
       "      <td>...</td>\n",
       "      <td>...</td>\n",
       "      <td>...</td>\n",
       "      <td>...</td>\n",
       "    </tr>\n",
       "    <tr>\n",
       "      <th>541536</th>\n",
       "      <td>581498</td>\n",
       "      <td>85099B</td>\n",
       "      <td>JUMBO BAG RED RETROSPOT</td>\n",
       "      <td>5</td>\n",
       "      <td>2011-12-09 10:26:00</td>\n",
       "      <td>4.13</td>\n",
       "      <td>NaN</td>\n",
       "      <td>United Kingdom</td>\n",
       "      <td>2</td>\n",
       "    </tr>\n",
       "    <tr>\n",
       "      <th>541537</th>\n",
       "      <td>581498</td>\n",
       "      <td>85099C</td>\n",
       "      <td>JUMBO  BAG BAROQUE BLACK WHITE</td>\n",
       "      <td>4</td>\n",
       "      <td>2011-12-09 10:26:00</td>\n",
       "      <td>4.13</td>\n",
       "      <td>NaN</td>\n",
       "      <td>United Kingdom</td>\n",
       "      <td>2</td>\n",
       "    </tr>\n",
       "    <tr>\n",
       "      <th>541538</th>\n",
       "      <td>581498</td>\n",
       "      <td>85150</td>\n",
       "      <td>LADIES &amp; GENTLEMEN METAL SIGN</td>\n",
       "      <td>1</td>\n",
       "      <td>2011-12-09 10:26:00</td>\n",
       "      <td>4.96</td>\n",
       "      <td>NaN</td>\n",
       "      <td>United Kingdom</td>\n",
       "      <td>2</td>\n",
       "    </tr>\n",
       "    <tr>\n",
       "      <th>541539</th>\n",
       "      <td>581498</td>\n",
       "      <td>85174</td>\n",
       "      <td>S/4 CACTI CANDLES</td>\n",
       "      <td>1</td>\n",
       "      <td>2011-12-09 10:26:00</td>\n",
       "      <td>10.79</td>\n",
       "      <td>NaN</td>\n",
       "      <td>United Kingdom</td>\n",
       "      <td>2</td>\n",
       "    </tr>\n",
       "    <tr>\n",
       "      <th>541540</th>\n",
       "      <td>581498</td>\n",
       "      <td>DOT</td>\n",
       "      <td>DOTCOM POSTAGE</td>\n",
       "      <td>1</td>\n",
       "      <td>2011-12-09 10:26:00</td>\n",
       "      <td>1714.17</td>\n",
       "      <td>NaN</td>\n",
       "      <td>United Kingdom</td>\n",
       "      <td>2</td>\n",
       "    </tr>\n",
       "  </tbody>\n",
       "</table>\n",
       "<p>238796 rows × 9 columns</p>\n",
       "</div>"
      ],
      "text/plain": [
       "       invoice stockcode                     description  quantity  \\\n",
       "577     489525    85226C       BLUE PULL BACK RACING CAR         1   \n",
       "578     489525     85227     SET/6 3D KIT CARDS FOR KIDS         1   \n",
       "1055    489548     22271            FELTCRAFT DOLL ROSIE         1   \n",
       "1056    489548     22254            FELT TOADSTOOL LARGE        12   \n",
       "1057    489548     22273            FELTCRAFT DOLL MOLLY         3   \n",
       "...        ...       ...                             ...       ...   \n",
       "541536  581498    85099B         JUMBO BAG RED RETROSPOT         5   \n",
       "541537  581498    85099C  JUMBO  BAG BAROQUE BLACK WHITE         4   \n",
       "541538  581498     85150   LADIES & GENTLEMEN METAL SIGN         1   \n",
       "541539  581498     85174               S/4 CACTI CANDLES         1   \n",
       "541540  581498       DOT                  DOTCOM POSTAGE         1   \n",
       "\n",
       "               invoicedate    price  customerid         country  flag  \n",
       "577    2009-12-01 11:49:00     0.55         NaN  United Kingdom     1  \n",
       "578    2009-12-01 11:49:00     0.85         NaN  United Kingdom     1  \n",
       "1055   2009-12-01 12:32:00     2.95         NaN  United Kingdom     1  \n",
       "1056   2009-12-01 12:32:00     1.25         NaN  United Kingdom     1  \n",
       "1057   2009-12-01 12:32:00     2.95         NaN  United Kingdom     1  \n",
       "...                    ...      ...         ...             ...   ...  \n",
       "541536 2011-12-09 10:26:00     4.13         NaN  United Kingdom     2  \n",
       "541537 2011-12-09 10:26:00     4.13         NaN  United Kingdom     2  \n",
       "541538 2011-12-09 10:26:00     4.96         NaN  United Kingdom     2  \n",
       "541539 2011-12-09 10:26:00    10.79         NaN  United Kingdom     2  \n",
       "541540 2011-12-09 10:26:00  1714.17         NaN  United Kingdom     2  \n",
       "\n",
       "[238796 rows x 9 columns]"
      ]
     },
     "execution_count": 128,
     "metadata": {},
     "output_type": "execute_result"
    }
   ],
   "source": [
    "df[df.customerid.isna()]"
   ]
  },
  {
   "cell_type": "code",
   "execution_count": 149,
   "metadata": {},
   "outputs": [
    {
     "data": {
      "text/plain": [
       "47.7592"
      ]
     },
     "execution_count": 149,
     "metadata": {},
     "output_type": "execute_result"
    }
   ],
   "source": [
    "238796/5000"
   ]
  },
  {
   "cell_type": "code",
   "execution_count": 150,
   "metadata": {},
   "outputs": [
    {
     "data": {
      "text/plain": [
       "0.020938374177121896"
      ]
     },
     "execution_count": 150,
     "metadata": {},
     "output_type": "execute_result"
    }
   ],
   "source": [
    "5000/238796"
   ]
  },
  {
   "attachments": {},
   "cell_type": "markdown",
   "metadata": {},
   "source": [
    "Below cell shows bucket empty"
   ]
  },
  {
   "cell_type": "code",
   "execution_count": 158,
   "metadata": {},
   "outputs": [
    {
     "data": {
      "text/plain": [
       "[]"
      ]
     },
     "execution_count": 158,
     "metadata": {},
     "output_type": "execute_result"
    }
   ],
   "source": [
    "# Takes a long time to run\n",
    "# i = 0\n",
    "# bucket = []\n",
    "# for inv in df[df.customerid.isna()].invoice:\n",
    "#     if i % 5000 == 0:\n",
    "#         print(f\"{i/238796*100}% Done\")\n",
    "#     if len(df[(df.invoice == inv) & ~(df.customerid.isna())]) > 0:\n",
    "#         print(inv)\n",
    "#         bucket.append(inv)\n",
    "#     i += 1\n",
    "# bucket"
   ]
  },
  {
   "cell_type": "code",
   "execution_count": 143,
   "metadata": {},
   "outputs": [
    {
     "data": {
      "text/plain": [
       "2"
      ]
     },
     "execution_count": 143,
     "metadata": {},
     "output_type": "execute_result"
    }
   ],
   "source": [
    "df[(df.invoice == '489525') & ~(df.customerid.isna())]\n",
    "len(df[(df.invoice == '489525') & (df.customerid.isna())])"
   ]
  },
  {
   "cell_type": "code",
   "execution_count": 159,
   "metadata": {},
   "outputs": [],
   "source": [
    "# df[df.invoice == '489548']"
   ]
  },
  {
   "cell_type": "code",
   "execution_count": null,
   "metadata": {},
   "outputs": [],
   "source": []
  },
  {
   "attachments": {},
   "cell_type": "markdown",
   "metadata": {},
   "source": [
    "# Possible Business Questions\n",
    "- What is our most commonly sold item?\n",
    "- What is our total revenue?\n",
    "- When did we sell the most?\n",
    "- How do our sales trends look? Look at # sales over time, revenue over time, revenue by country, etc.\n",
    "- Where do we sell the most?\n",
    "- Where is most profitable to sell?\n",
    "\n",
    "## Other:\n",
    "should add sql commands for updating our data for future use with python connector.  \n",
    "\n",
    "https://stackoverflow.com/questions/1081750/python-update-multiple-columns-with-python-variables\n",
    "\n",
    "https://stackoverflow.com/questions/33495194/mysql-insert-on-duplicate-update-for-non-primary-key"
   ]
  }
 ],
 "metadata": {
  "kernelspec": {
   "display_name": "py106",
   "language": "python",
   "name": "python3"
  },
  "language_info": {
   "codemirror_mode": {
    "name": "ipython",
    "version": 3
   },
   "file_extension": ".py",
   "mimetype": "text/x-python",
   "name": "python",
   "nbconvert_exporter": "python",
   "pygments_lexer": "ipython3",
   "version": "3.10.6"
  },
  "orig_nbformat": 4
 },
 "nbformat": 4,
 "nbformat_minor": 2
}
